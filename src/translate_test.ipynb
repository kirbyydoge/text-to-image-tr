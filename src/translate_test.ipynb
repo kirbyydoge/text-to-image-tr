{
 "cells": [
  {
   "cell_type": "code",
   "execution_count": 1,
   "metadata": {},
   "outputs": [],
   "source": [
    "from googletrans import Translator\n",
    "\n",
    "SRC = \"en\"\n",
    "DEST = \"tr\"\n",
    "translator = Translator()"
   ]
  },
  {
   "cell_type": "code",
   "execution_count": 2,
   "metadata": {},
   "outputs": [
    {
     "name": "stdout",
     "output_type": "stream",
     "text": [
      "A shiba-inu breed dog. -> Shiba-inu cinsi bir köpek.\n",
      "Hand holding an apple. -> Bir elma tutan el.\n"
     ]
    }
   ],
   "source": [
    "batch = [\n",
    "\t\"A shiba-inu breed dog.\",\n",
    "\t\"Hand holding an apple.\"\n",
    "]\n",
    "\n",
    "batch_translate = translator.translate(batch, src=SRC, dest=DEST)\n",
    "for translation in batch_translate:\n",
    "\tprint(f\"{translation.origin} -> {translation.text}\")"
   ]
  }
 ],
 "metadata": {
  "interpreter": {
   "hash": "116fc0531d454bbdeaf23f70d07b0d49aee0978cb9b9ebe8756766f8c910747e"
  },
  "kernelspec": {
   "display_name": "Python 3.8.0 64-bit",
   "language": "python",
   "name": "python3"
  },
  "language_info": {
   "codemirror_mode": {
    "name": "ipython",
    "version": 3
   },
   "file_extension": ".py",
   "mimetype": "text/x-python",
   "name": "python",
   "nbconvert_exporter": "python",
   "pygments_lexer": "ipython3",
   "version": "3.8.0"
  },
  "orig_nbformat": 4
 },
 "nbformat": 4,
 "nbformat_minor": 2
}
