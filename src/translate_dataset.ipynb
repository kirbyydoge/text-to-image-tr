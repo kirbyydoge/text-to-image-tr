{
 "cells": [
  {
   "cell_type": "code",
   "execution_count": 26,
   "metadata": {},
   "outputs": [],
   "source": [
    "from googletrans import Translator\n",
    "import os\n",
    "\n",
    "SRC = \"en\"\n",
    "DEST = \"tr\"\n",
    "START_IDX = 0\n",
    "TRANSLATE_LIMIT = -1 # unlimited\n",
    "DATA_PATH = \"D:/C12M/cc12m.tsv\"\n",
    "OUTPUT_PATH = \"D:/C12M/cc12m_tr.tsv\"\n",
    "RESPECT_DURATION = 1\n",
    "TRANSLATE_BATCH_SIZE = 10\n",
    "translator = Translator()\n",
    "\n",
    "def batch_translate(batch, translator):\n",
    "\treturn translator.translate(batch, src=SRC, dest=DEST)\n",
    "\n",
    "def to_tsv(url, en, tr):\n",
    "\treturn f\"{url}\\t{en}\\t{tr}\\n\""
   ]
  },
  {
   "cell_type": "code",
   "execution_count": 27,
   "metadata": {},
   "outputs": [
    {
     "name": "stdout",
     "output_type": "stream",
     "text": [
      "Found 9240 entries.\n"
     ]
    }
   ],
   "source": [
    "if os.path.exists(OUTPUT_PATH):\n",
    "\twith open(OUTPUT_PATH, \"r\", encoding=\"utf-8\") as dest:\n",
    "\t\tfor line in dest:\n",
    "\t\t\tSTART_IDX += 1\n",
    "\tprint(f\"Found {START_IDX} entries.\")\n",
    "\n",
    "with open(DATA_PATH, \"r\", encoding=\"utf-8\") as src, open(OUTPUT_PATH, \"a\", encoding=\"utf-8\") as dest:\n",
    "\tbatch = [\"\"] * TRANSLATE_BATCH_SIZE\n",
    "\tactive_lines = [\"\"] * TRANSLATE_BATCH_SIZE\n",
    "\tindex = 0\n",
    "\ttranslate_counter = 0\n",
    "\tfor i, line in enumerate(src):\n",
    "\t\tif i < START_IDX:\n",
    "\t\t\tcontinue\n",
    "\t\turl, text = line.strip().split(\"\\t\")\n",
    "\t\tindex = translate_counter % TRANSLATE_BATCH_SIZE\n",
    "\t\tactive_lines[index] = (url, text)\n",
    "\t\tbatch[index] = text\n",
    "\t\ttranslate_counter += 1\n",
    "\t\tif translate_counter == TRANSLATE_LIMIT:\n",
    "\t\t\tbreak\n",
    "\t\tif index == (TRANSLATE_BATCH_SIZE-1):\n",
    "\t\t\ttranslations = batch_translate(batch, translator)\n",
    "\t\t\tfor i, translation in enumerate(translations):\n",
    "\t\t\t\tdest.write(to_tsv(active_lines[i][0], active_lines[i][1], translation.text))\n",
    "\t\t\tindex = -1\t# index is different than -1 after the loop, we need to translate remainder lines as well\n",
    "\tif index != -1:\n",
    "\t\ttranslations = batch_translate(batch[:index+1], translator)\n",
    "\t\tfor i, translation in enumerate(translations):\n",
    "\t\t\tdest.write(to_tsv(active_lines[i][0], active_lines[i][1], translation.text))"
   ]
  }
 ],
 "metadata": {
  "interpreter": {
   "hash": "116fc0531d454bbdeaf23f70d07b0d49aee0978cb9b9ebe8756766f8c910747e"
  },
  "kernelspec": {
   "display_name": "Python 3.8.0 64-bit",
   "language": "python",
   "name": "python3"
  },
  "language_info": {
   "codemirror_mode": {
    "name": "ipython",
    "version": 3
   },
   "file_extension": ".py",
   "mimetype": "text/x-python",
   "name": "python",
   "nbconvert_exporter": "python",
   "pygments_lexer": "ipython3",
   "version": "3.8.0"
  },
  "orig_nbformat": 4
 },
 "nbformat": 4,
 "nbformat_minor": 2
}
