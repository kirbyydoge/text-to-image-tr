{
 "cells": [
  {
   "cell_type": "code",
   "execution_count": 3,
   "metadata": {},
   "outputs": [],
   "source": [
    "import torch\n",
    "import clip\n",
    "from PIL import Image\n",
    "\n",
    "DATA_PATH = \"../data\"\n",
    "\n",
    "device = \"cuda\" if torch.cuda.is_available() else \"cpu\"\n",
    "model, preprocess = clip.load(\"ViT-B/32\", device=device)"
   ]
  },
  {
   "cell_type": "code",
   "execution_count": 10,
   "metadata": {},
   "outputs": [
    {
     "name": "stdout",
     "output_type": "stream",
     "text": [
      "torch.Size([1, 512])\n",
      "torch.Size([4, 512])\n",
      "a human: 0.03\n",
      "a cat: 0.01\n",
      "a flower: 0.00\n",
      "a dog: 0.96\n"
     ]
    }
   ],
   "source": [
    "labels = [\"a human\", \"a cat\", \"a flower\", \"a dog\"]\n",
    "\n",
    "image = preprocess(Image.open(f\"{DATA_PATH}/random/shiba-inu-dog.jpg\")).unsqueeze(0).to(device)\n",
    "text = clip.tokenize(labels).to(device)\n",
    "\n",
    "with torch.no_grad():\n",
    "\timage_features = model.encode_image(image)\n",
    "\ttext_features = model.encode_text(text)\n",
    "\n",
    "\tlogits_per_image, logits_per_text = model(image, text)\n",
    "\tprobs = logits_per_image.softmax(dim=-1).cpu().numpy()\n",
    "\n",
    "for i in range(len(probs[0])):\n",
    "\tprint(f\"{labels[i]}: {probs[0][i]:.2f}\")"
   ]
  }
 ],
 "metadata": {
  "interpreter": {
   "hash": "116fc0531d454bbdeaf23f70d07b0d49aee0978cb9b9ebe8756766f8c910747e"
  },
  "kernelspec": {
   "display_name": "Python 3.8.0 64-bit",
   "language": "python",
   "name": "python3"
  },
  "language_info": {
   "codemirror_mode": {
    "name": "ipython",
    "version": 3
   },
   "file_extension": ".py",
   "mimetype": "text/x-python",
   "name": "python",
   "nbconvert_exporter": "python",
   "pygments_lexer": "ipython3",
   "version": "3.8.0"
  },
  "orig_nbformat": 4
 },
 "nbformat": 4,
 "nbformat_minor": 2
}
